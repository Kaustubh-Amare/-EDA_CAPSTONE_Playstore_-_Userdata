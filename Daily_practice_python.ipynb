{
  "nbformat": 4,
  "nbformat_minor": 0,
  "metadata": {
    "colab": {
      "provenance": [],
      "authorship_tag": "ABX9TyO5W1AfKTYOR7yw7yEIGVLy",
      "include_colab_link": true
    },
    "kernelspec": {
      "name": "python3",
      "display_name": "Python 3"
    },
    "language_info": {
      "name": "python"
    }
  },
  "cells": [
    {
      "cell_type": "markdown",
      "metadata": {
        "id": "view-in-github",
        "colab_type": "text"
      },
      "source": [
        "<a href=\"https://colab.research.google.com/github/Kaustubh-Amare/-EDA_CAPSTONE_Playstore_-_Userdata/blob/main/Daily_practice_python.ipynb\" target=\"_parent\"><img src=\"https://colab.research.google.com/assets/colab-badge.svg\" alt=\"Open In Colab\"/></a>"
      ]
    },
    {
      "cell_type": "markdown",
      "source": [
        "1. Write a Python program using recursion to calculate the sum of a list of numbers.\n",
        "\n",
        "Example 1:\n",
        "Input:\n",
        "[2, 4, 5, 6, 7]\n",
        "\n",
        "Output:\n",
        "24"
      ],
      "metadata": {
        "id": "Kl2SeDjJt0vJ"
      }
    },
    {
      "cell_type": "code",
      "execution_count": 1,
      "metadata": {
        "id": "O6pmgzmOq5Xe",
        "colab": {
          "base_uri": "https://localhost:8080/"
        },
        "outputId": "4de27cc9-b851-4007-bd3f-7bcdf5f29db9"
      },
      "outputs": [
        {
          "output_type": "stream",
          "name": "stdout",
          "text": [
            "[2,3,4,5]\n",
            "14\n"
          ]
        }
      ],
      "source": [
        "num_List=eval(input())\n",
        "def list_sum(num_List):\n",
        "    if len(num_List) == 1:\n",
        "        return(num_List[0])\n",
        "    else:\n",
        "        return num_List[0] + list_sum(num_List[1:])\n",
        "\n",
        "print(list_sum(num_List))"
      ]
    },
    {
      "cell_type": "code",
      "source": [],
      "metadata": {
        "id": "7rsOBE-ht7rl"
      },
      "execution_count": null,
      "outputs": []
    }
  ]
}